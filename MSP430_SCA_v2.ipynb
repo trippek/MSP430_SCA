{
 "cells": [
  {
   "cell_type": "markdown",
   "id": "58898ecd",
   "metadata": {},
   "source": [
    "# MSP430 SCA"
   ]
  },
  {
   "cell_type": "markdown",
   "id": "930ec805",
   "metadata": {},
   "source": [
    "This code was developed to aid in performing a side channel attack (SCA) on AES128 encryption on an MSP430. Code from the following sources was either directly copied or used as an example for this code:\n",
    "- https://wiki.newae.com/V4:Tutorial_B6_Breaking_AES_(Manual_CPA_Attack)\n",
    "- Chatgpt"
   ]
  },
  {
   "cell_type": "markdown",
   "id": "01ce20bf",
   "metadata": {},
   "source": [
    "## Library Import"
   ]
  },
  {
   "cell_type": "code",
   "execution_count": 1,
   "id": "294eac02",
   "metadata": {},
   "outputs": [],
   "source": [
    "# for numpy array and plotting\n",
    "import numpy as np\n",
    "import matplotlib.pyplot as plt\n",
    "\n",
    "# for list of plaintext\n",
    "import os\n",
    "\n",
    "# for converting from .mat to .py\n",
    "import scipy.io as sio\n",
    "\n",
    "# for program runtime\n",
    "import time"
   ]
  },
  {
   "cell_type": "markdown",
   "id": "cf8b3017",
   "metadata": {},
   "source": [
    "## Data Preprocessing"
   ]
  },
  {
   "cell_type": "markdown",
   "id": "d240e865",
   "metadata": {},
   "source": [
    "### List plaintext"
   ]
  },
  {
   "cell_type": "markdown",
   "id": "fc955b9e",
   "metadata": {},
   "source": [
    "The goal of this section is to create a list of the plaintexts used for each power trace. This is so that the SCA algorithm knows which plaintext to use for each power trace when it computes the power consumed for Sbox lookup. In preliminary testing, we manually saved 10 power traces with 10 different plaintext values (not nearly enough, but needed for proof of concept). The 10 power traces are saved in the file that is given as the folder path, in this case 'C:/Users/ktrippe/OneDrive - University of Arkansas/Trulogic/SCA_AES/MSP430_sample_power_traces_mat_only'. \n",
    "\n",
    "*Important assumptions about the contents of the folder:*\n",
    "- Only .mat files are included in the file\n",
    "- Filenames follow this convention exactly: \"plaintext + \\_math1 (or some oscilloscope channel name) + .mat\""
   ]
  },
  {
   "cell_type": "code",
   "execution_count": 2,
   "id": "37e57e6e",
   "metadata": {
    "scrolled": true
   },
   "outputs": [
    {
     "name": "stdout",
     "output_type": "stream",
     "text": [
      "3e2711fa9f3d4644788eaa2b0c521407_math1 - Copy (2).mat\n",
      "3e2711fa9f3d4644788eaa2b0c521407_math1 - Copy (3).mat\n",
      "3e2711fa9f3d4644788eaa2b0c521407_math1 - Copy (4).mat\n",
      "3e2711fa9f3d4644788eaa2b0c521407_math1 - Copy.mat\n",
      "3e2711fa9f3d4644788eaa2b0c521407_math1.mat\n",
      "8a35ab20f269b4e766311ea50f81cb94_math1 - Copy (2).mat\n",
      "8a35ab20f269b4e766311ea50f81cb94_math1 - Copy (3).mat\n",
      "8a35ab20f269b4e766311ea50f81cb94_math1 - Copy (4).mat\n",
      "8a35ab20f269b4e766311ea50f81cb94_math1 - Copy.mat\n",
      "8a35ab20f269b4e766311ea50f81cb94_math1.mat\n",
      "8c9c074b6f3e37d44b7fd6a9f6a52986_math1 - Copy (2).mat\n",
      "8c9c074b6f3e37d44b7fd6a9f6a52986_math1 - Copy (3).mat\n",
      "8c9c074b6f3e37d44b7fd6a9f6a52986_math1 - Copy (4).mat\n",
      "8c9c074b6f3e37d44b7fd6a9f6a52986_math1 - Copy.mat\n",
      "8c9c074b6f3e37d44b7fd6a9f6a52986_math1.mat\n"
     ]
    },
    {
     "data": {
      "text/plain": [
       "15"
      ]
     },
     "execution_count": 2,
     "metadata": {},
     "output_type": "execute_result"
    }
   ],
   "source": [
    "folder_path = 'C:/Users/ktrippe/OneDrive - University of Arkansas/Trulogic/SCA_AES/MSP430_sample_power_traces_mat_only_duplicates_three'\n",
    "\n",
    "all_items = os.listdir(folder_path)\n",
    "\n",
    "file_names = [item for item in all_items if os.path.isfile(os.path.join(folder_path, item))]\n",
    "\n",
    "for filename in file_names:\n",
    "    print(filename)\n",
    "    \n",
    "len(file_names)"
   ]
  },
  {
   "cell_type": "markdown",
   "id": "3baa3990",
   "metadata": {},
   "source": [
    "### Automated conversion from filenames to hex numbers"
   ]
  },
  {
   "cell_type": "markdown",
   "id": "9694b43b",
   "metadata": {},
   "source": [
    "The plaintext values need to be given as two-byte hex numbers represented as binary numbers in the SCA algorithm. The following code takes the plaintexts, currently stored as strings in the filenames, and converts them to the two-byte hex number in binary representation format. The file naming convention is listed in the explanation for \"List plaintext\" section, and is directly related to the automatic generation of plaintext values. If the naming convention is different, this section should be as well. "
   ]
  },
  {
   "cell_type": "code",
   "execution_count": 3,
   "id": "1a0f7830",
   "metadata": {
    "scrolled": true
   },
   "outputs": [
    {
     "data": {
      "text/plain": [
       "[[62, 39, 17, 250, 159, 61, 70, 68, 120, 142, 170, 43, 12, 82, 20, 7],\n",
       " [62, 39, 17, 250, 159, 61, 70, 68, 120, 142, 170, 43, 12, 82, 20, 7],\n",
       " [62, 39, 17, 250, 159, 61, 70, 68, 120, 142, 170, 43, 12, 82, 20, 7],\n",
       " [62, 39, 17, 250, 159, 61, 70, 68, 120, 142, 170, 43, 12, 82, 20, 7],\n",
       " [62, 39, 17, 250, 159, 61, 70, 68, 120, 142, 170, 43, 12, 82, 20, 7],\n",
       " [138, 53, 171, 32, 242, 105, 180, 231, 102, 49, 30, 165, 15, 129, 203, 148],\n",
       " [138, 53, 171, 32, 242, 105, 180, 231, 102, 49, 30, 165, 15, 129, 203, 148],\n",
       " [138, 53, 171, 32, 242, 105, 180, 231, 102, 49, 30, 165, 15, 129, 203, 148],\n",
       " [138, 53, 171, 32, 242, 105, 180, 231, 102, 49, 30, 165, 15, 129, 203, 148],\n",
       " [138, 53, 171, 32, 242, 105, 180, 231, 102, 49, 30, 165, 15, 129, 203, 148],\n",
       " [140, 156, 7, 75, 111, 62, 55, 212, 75, 127, 214, 169, 246, 165, 41, 134],\n",
       " [140, 156, 7, 75, 111, 62, 55, 212, 75, 127, 214, 169, 246, 165, 41, 134],\n",
       " [140, 156, 7, 75, 111, 62, 55, 212, 75, 127, 214, 169, 246, 165, 41, 134],\n",
       " [140, 156, 7, 75, 111, 62, 55, 212, 75, 127, 214, 169, 246, 165, 41, 134],\n",
       " [140, 156, 7, 75, 111, 62, 55, 212, 75, 127, 214, 169, 246, 165, 41, 134]]"
      ]
     },
     "execution_count": 3,
     "metadata": {},
     "output_type": "execute_result"
    }
   ],
   "source": [
    "def extract_hex_from_filename(filename):\n",
    "    # Extract the hex number from the filename\n",
    "    hex_number = filename.split('_')[0].split('.')[0]\n",
    "    return hex_number\n",
    "\n",
    "def hex_to_decimal(hex_str):\n",
    "    # Parse the hex number into pairs\n",
    "    hex_pairs = [hex_str[i:i+2] for i in range(0, len(hex_str), 2)]\n",
    "\n",
    "    # Convert the pairs to decimal\n",
    "    decimal_numbers = [int(pair, 16) for pair in hex_pairs]\n",
    "\n",
    "    return decimal_numbers\n",
    "\n",
    "textin_auto = []\n",
    "\n",
    "for filename in file_names:\n",
    "    # Extract hex number from filename\n",
    "    hex_number = extract_hex_from_filename(filename)\n",
    "\n",
    "    # Convert hex to decimal\n",
    "    decimal_numbers = hex_to_decimal(hex_number)\n",
    "    textin_auto.append(decimal_numbers)\n",
    "\n",
    "    # print(f\"Filename: {filename}, Hex: {hex_number}, Decimal: {decimal_numbers}\")\n",
    "    \n",
    "textin_auto"
   ]
  },
  {
   "cell_type": "markdown",
   "id": "4dcd8e66",
   "metadata": {},
   "source": [
    "### Conversion from .mat to .npy"
   ]
  },
  {
   "cell_type": "markdown",
   "id": "bcb74761",
   "metadata": {},
   "source": [
    "Assuming the file contains only the .mat files with power traces, this code can be used to iterate through files and store the content in a numpy array of traces. At the end, a new array called averaged_traces is created that is meant to average sets of traces that belong to the same plaintext. The program is written to take the average of every {num_avg} traces, so traces belonging to the same plaintext should all be grouped together and each plaintext should have the same number of traces. In this example, there are 15 total traces with 3 distinct plaintexts, so 5 traces per plaintext. This is also seen in the filenames listed under \"List plaintext.\""
   ]
  },
  {
   "cell_type": "code",
   "execution_count": 4,
   "id": "f80d3e5b",
   "metadata": {},
   "outputs": [
    {
     "name": "stdout",
     "output_type": "stream",
     "text": [
      "Loading file 3e2711fa9f3d4644788eaa2b0c521407_math1 - Copy (2).mat\n",
      "-------- Iteration 0 Complete --------\n",
      "Loading file 3e2711fa9f3d4644788eaa2b0c521407_math1 - Copy (3).mat\n",
      "-------- Iteration 1 Complete --------\n",
      "Loading file 3e2711fa9f3d4644788eaa2b0c521407_math1 - Copy (4).mat\n",
      "-------- Iteration 2 Complete --------\n",
      "Loading file 3e2711fa9f3d4644788eaa2b0c521407_math1 - Copy.mat\n",
      "-------- Iteration 3 Complete --------\n",
      "Loading file 3e2711fa9f3d4644788eaa2b0c521407_math1.mat\n",
      "-------- Iteration 4 Complete --------\n",
      "Loading file 8a35ab20f269b4e766311ea50f81cb94_math1 - Copy (2).mat\n",
      "-------- Iteration 5 Complete --------\n",
      "Loading file 8a35ab20f269b4e766311ea50f81cb94_math1 - Copy (3).mat\n",
      "-------- Iteration 6 Complete --------\n",
      "Loading file 8a35ab20f269b4e766311ea50f81cb94_math1 - Copy (4).mat\n",
      "-------- Iteration 7 Complete --------\n",
      "Loading file 8a35ab20f269b4e766311ea50f81cb94_math1 - Copy.mat\n",
      "-------- Iteration 8 Complete --------\n",
      "Loading file 8a35ab20f269b4e766311ea50f81cb94_math1.mat\n",
      "-------- Iteration 9 Complete --------\n",
      "Loading file 8c9c074b6f3e37d44b7fd6a9f6a52986_math1 - Copy (2).mat\n",
      "-------- Iteration 10 Complete --------\n",
      "Loading file 8c9c074b6f3e37d44b7fd6a9f6a52986_math1 - Copy (3).mat\n",
      "-------- Iteration 11 Complete --------\n",
      "Loading file 8c9c074b6f3e37d44b7fd6a9f6a52986_math1 - Copy (4).mat\n",
      "-------- Iteration 12 Complete --------\n",
      "Loading file 8c9c074b6f3e37d44b7fd6a9f6a52986_math1 - Copy.mat\n",
      "-------- Iteration 13 Complete --------\n",
      "Loading file 8c9c074b6f3e37d44b7fd6a9f6a52986_math1.mat\n",
      "-------- Iteration 14 Complete --------\n",
      "Size of traces matrix: (15, 2225300)\n",
      "Size of averaged_traces matrix: (3, 2225300)\n"
     ]
    }
   ],
   "source": [
    "mat_list = []\n",
    "# num_avg is the number of traces per plaintext used to smooth out the power traces\n",
    "num_avg = 5\n",
    "\n",
    "for j in range(len(file_names)):\n",
    "    mat = sio.loadmat('C:/Users/ktrippe/OneDrive - University of Arkansas/Trulogic/SCA_AES/MSP430_sample_power_traces_mat_only_duplicates_three/' + file_names[j])\n",
    "    # print(mat)\n",
    "    print(\"Loading file \" + file_names[j])\n",
    "\n",
    "    mat_load = [[element for element in upperElement] for upperElement in mat['data']]\n",
    "    \n",
    "    mat_temp = []\n",
    "    length = len(mat_load) \n",
    "    i = 0\n",
    "    # modifying the data to exclude power spikes included in the original data\n",
    "    for i in range(2225300): \n",
    "        mat_temp.append(mat_load[i+97499][0])\n",
    "    \n",
    "    mat_list.append(mat_temp)\n",
    "    print(f\"-------- Iteration {j} Complete --------\")\n",
    "    \n",
    "traces = np.array(mat_list) # convert the list to a NumPy array\n",
    "print(f\"Size of traces matrix: {traces.shape}\")\n",
    "\n",
    "reshaped_traces = traces.reshape(-1, num_avg, traces.shape[1])\n",
    "averaged_traces = np.mean(reshaped_traces, axis=1)\n",
    "print(f\"Size of averaged_traces matrix: {averaged_traces.shape}\")"
   ]
  },
  {
   "cell_type": "code",
   "execution_count": 5,
   "id": "812a14b6",
   "metadata": {
    "scrolled": false
   },
   "outputs": [
    {
     "data": {
      "image/png": "[encoded data removed]",
      "text/plain": [
       "<Figure size 640x480 with 1 Axes>"
      ]
     },
     "metadata": {},
     "output_type": "display_data"
    }
   ],
   "source": [
    "plt.plot(traces[0])\n",
    "plt.show()"
   ]
  },
  {
   "cell_type": "markdown",
   "id": "94393dc0",
   "metadata": {},
   "source": [
    "## SCA"
   ]
  },
  {
   "cell_type": "markdown",
   "id": "65dffa64",
   "metadata": {},
   "source": [
    "### Sbox"
   ]
  },
  {
   "cell_type": "markdown",
   "id": "2cdf035a",
   "metadata": {},
   "source": [
    "The attack is being performed specifically on the power consumption during Sbox lookup, so the content of the Sbox is needed to compute an estimate of ideal power consumption."
   ]
  },
  {
   "cell_type": "code",
   "execution_count": 6,
   "id": "6c208551",
   "metadata": {},
   "outputs": [],
   "source": [
    "#Lookup table for number of 1's in binary numbers 0-256\n",
    "HW = [bin(n).count(\"1\") for n in range(0,256)] \n",
    "\n",
    "sbox=(\n",
    "0x63,0x7c,0x77,0x7b,0xf2,0x6b,0x6f,0xc5,0x30,0x01,0x67,0x2b,0xfe,0xd7,0xab,0x76,\n",
    "0xca,0x82,0xc9,0x7d,0xfa,0x59,0x47,0xf0,0xad,0xd4,0xa2,0xaf,0x9c,0xa4,0x72,0xc0,\n",
    "0xb7,0xfd,0x93,0x26,0x36,0x3f,0xf7,0xcc,0x34,0xa5,0xe5,0xf1,0x71,0xd8,0x31,0x15,\n",
    "0x04,0xc7,0x23,0xc3,0x18,0x96,0x05,0x9a,0x07,0x12,0x80,0xe2,0xeb,0x27,0xb2,0x75,\n",
    "0x09,0x83,0x2c,0x1a,0x1b,0x6e,0x5a,0xa0,0x52,0x3b,0xd6,0xb3,0x29,0xe3,0x2f,0x84,\n",
    "0x53,0xd1,0x00,0xed,0x20,0xfc,0xb1,0x5b,0x6a,0xcb,0xbe,0x39,0x4a,0x4c,0x58,0xcf,\n",
    "0xd0,0xef,0xaa,0xfb,0x43,0x4d,0x33,0x85,0x45,0xf9,0x02,0x7f,0x50,0x3c,0x9f,0xa8,\n",
    "0x51,0xa3,0x40,0x8f,0x92,0x9d,0x38,0xf5,0xbc,0xb6,0xda,0x21,0x10,0xff,0xf3,0xd2,\n",
    "0xcd,0x0c,0x13,0xec,0x5f,0x97,0x44,0x17,0xc4,0xa7,0x7e,0x3d,0x64,0x5d,0x19,0x73,\n",
    "0x60,0x81,0x4f,0xdc,0x22,0x2a,0x90,0x88,0x46,0xee,0xb8,0x14,0xde,0x5e,0x0b,0xdb,\n",
    "0xe0,0x32,0x3a,0x0a,0x49,0x06,0x24,0x5c,0xc2,0xd3,0xac,0x62,0x91,0x95,0xe4,0x79,\n",
    "0xe7,0xc8,0x37,0x6d,0x8d,0xd5,0x4e,0xa9,0x6c,0x56,0xf4,0xea,0x65,0x7a,0xae,0x08,\n",
    "0xba,0x78,0x25,0x2e,0x1c,0xa6,0xb4,0xc6,0xe8,0xdd,0x74,0x1f,0x4b,0xbd,0x8b,0x8a,\n",
    "0x70,0x3e,0xb5,0x66,0x48,0x03,0xf6,0x0e,0x61,0x35,0x57,0xb9,0x86,0xc1,0x1d,0x9e,\n",
    "0xe1,0xf8,0x98,0x11,0x69,0xd9,0x8e,0x94,0x9b,0x1e,0x87,0xe9,0xce,0x55,0x28,0xdf,\n",
    "0x8c,0xa1,0x89,0x0d,0xbf,0xe6,0x42,0x68,0x41,0x99,0x2d,0x0f,0xb0,0x54,0xbb,0x16)"
   ]
  },
  {
   "cell_type": "markdown",
   "id": "24691775",
   "metadata": {},
   "source": [
    "### Attack"
   ]
  },
  {
   "cell_type": "markdown",
   "id": "9f828a23",
   "metadata": {},
   "source": [
    "This is where the attack is performed. All of the variables used here should be taken care of in data preprocessing."
   ]
  },
  {
   "cell_type": "code",
   "execution_count": 7,
   "id": "1e4a45e7",
   "metadata": {},
   "outputs": [
    {
     "name": "stderr",
     "output_type": "stream",
     "text": [
      "C:\\Users\\ktrippe\\AppData\\Local\\Temp\\ipykernel_19188\\1738349863.py:50: RuntimeWarning: invalid value encountered in divide\n",
      "  cpaoutput[kguess] = sumnum / np.sqrt( sumden1 * sumden2 )\n"
     ]
    },
    {
     "name": "stdout",
     "output_type": "stream",
     "text": [
      "Best Key Guess: \n",
      "01 \n",
      "20 \n",
      "00 \n",
      "00 \n",
      "00 \n",
      "00 \n",
      "00 \n",
      "00 \n",
      "00 \n",
      "00 \n",
      "00 \n",
      "00 \n",
      "00 \n",
      "00 \n",
      "00 \n",
      "00 \n",
      "Elapsed Time: 510.34048342704773 seconds\n"
     ]
    }
   ],
   "source": [
    "def intermediate(pt, keyguess):\n",
    "    return sbox[pt ^ keyguess]\n",
    "\n",
    "pt = textin_auto\n",
    "# traces = np.load(r'MSP430_sample_traces.npy')\n",
    "# pt = np.load(r'MSP430_sample_textin.npy')\n",
    "\n",
    "numtraces = np.shape(traces)[0]-1\n",
    "numpoint = np.shape(traces)[1]\n",
    "\n",
    "#Use less than the maximum traces by setting numtraces to something\n",
    "#numtraces = 15\n",
    "\n",
    "bestguess = [0]*16\n",
    "\n",
    "start_time = time.time()\n",
    "#Set 16 to something lower (like 1) to only go through a single subkey & save time!\n",
    "for bnum in range(0, 2):\n",
    "    cpaoutput = [0]*256\n",
    "    maxcpa = [0]*256\n",
    "    for kguess in range(0, 256):\n",
    "        # print (\"Subkey %2d, hyp = %02x: \"%(bnum, kguess))\n",
    "\n",
    "\n",
    "        #Initialize arrays & variables to zero\n",
    "        sumnum = np.zeros(numpoint)\n",
    "        sumden1 = np.zeros(numpoint)\n",
    "        sumden2 = np.zeros(numpoint)\n",
    "\n",
    "        hyp = np.zeros(numtraces)\n",
    "        for tnum in range(0, numtraces):\n",
    "            hyp[tnum] = HW[intermediate(pt[tnum][bnum], kguess)]\n",
    "\n",
    "\n",
    "        #Mean of hypothesis\n",
    "        meanh = np.mean(hyp, dtype=np.float64)\n",
    "\n",
    "        #Mean of all points in trace\n",
    "        meant = np.mean(traces, axis=0, dtype=np.float64)\n",
    "\n",
    "        #For each trace, do the following\n",
    "        for tnum in range(0, numtraces):\n",
    "            hdiff = (hyp[tnum] - meanh)\n",
    "            tdiff = traces[tnum,:] - meant\n",
    "\n",
    "            sumnum = sumnum + (hdiff*tdiff)\n",
    "            sumden1 = sumden1 + hdiff*hdiff \n",
    "            sumden2 = sumden2 + tdiff*tdiff\n",
    "\n",
    "        cpaoutput[kguess] = sumnum / np.sqrt( sumden1 * sumden2 )\n",
    "        maxcpa[kguess] = max(abs(cpaoutput[kguess]))\n",
    "\n",
    "        # print (maxcpa[kguess])\n",
    "\n",
    "    #Find maximum value of key\n",
    "    bestguess[bnum] = np.argmax(maxcpa)\n",
    "\n",
    "print (\"Best Key Guess: \")\n",
    "for b in bestguess: \n",
    "    print (\"%02x \"%b)\n",
    "\n",
    "end_time = time.time()\n",
    "elapsed_time = end_time - start_time\n",
    "\n",
    "print(f\"Elapsed Time: {elapsed_time} seconds\")"
   ]
  }
 ],
 "metadata": {
  "kernelspec": {
   "display_name": "Python 3 (ipykernel)",
   "language": "python",
   "name": "python3"
  },
  "language_info": {
   "codemirror_mode": {
    "name": "ipython",
    "version": 3
   },
   "file_extension": ".py",
   "mimetype": "text/x-python",
   "name": "python",
   "nbconvert_exporter": "python",
   "pygments_lexer": "ipython3",
   "version": "3.10.12"
  }
 },
 "nbformat": 4,
 "nbformat_minor": 5
}
