{
 "cells": [
  {
   "cell_type": "markdown",
   "id": "5db5ae4c",
   "metadata": {},
   "source": [
    "# MSP430 SCA Version 3"
   ]
  },
  {
   "cell_type": "markdown",
   "id": "c991c2f0",
   "metadata": {},
   "source": [
    "This code was developed to aid in performing a side channel attack (SCA) on AES128 encryption on an MSP430. Code from the following sources was either directly copied or used as an example for this code:\n",
    "- https://wiki.newae.com/V4:Tutorial_B6_Breaking_AES_(Manual_CPA_Attack)\n",
    "- Chatgpt\n",
    "\n",
    "Version 3 includes the following updates from version 2:\n",
    "- The plaintext is gathered from the data instead of the filename, as described in the \"Plaintext\" section below"
   ]
  },
  {
   "cell_type": "markdown",
   "id": "d6e28b2d",
   "metadata": {},
   "source": [
    "## Library Import"
   ]
  },
  {
   "cell_type": "code",
   "execution_count": 1,
   "id": "338ed848",
   "metadata": {},
   "outputs": [],
   "source": [
    "# for numpy array and plotting\n",
    "import numpy as np\n",
    "import matplotlib.pyplot as plt\n",
    "\n",
    "# for list of plaintext\n",
    "import os\n",
    "\n",
    "# for converting from .mat to .py\n",
    "from scipy.io import loadmat\n",
    "from datetime import datetime\n",
    "\n",
    "# for program runtime\n",
    "import time"
   ]
  },
  {
   "cell_type": "markdown",
   "id": "e3d00f35",
   "metadata": {},
   "source": [
    "## Data Preprocessing"
   ]
  },
  {
   "cell_type": "markdown",
   "id": "053a0d53",
   "metadata": {},
   "source": [
    "### List plaintext"
   ]
  },
  {
   "cell_type": "markdown",
   "id": "8f1756a4",
   "metadata": {},
   "source": [
    "The following code stores the filenames to be used to extract data from the files."
   ]
  },
  {
   "cell_type": "code",
   "execution_count": 2,
   "id": "b4339160",
   "metadata": {},
   "outputs": [
    {
     "name": "stdout",
     "output_type": "stream",
     "text": [
      "1278 files found\n"
     ]
    }
   ],
   "source": [
    "file_names = []\n",
    "\n",
    "# Specify the directory path\n",
    "directory_path = 'C:/Users/ktrippe/OneDrive - University of Arkansas/Trulogic/SCA_AES/srand2/'\n",
    "\n",
    "# Get a list of filenames in the directory\n",
    "filenames = os.listdir(directory_path)\n",
    "\n",
    "# Create a list of tuples containing filename and modification time\n",
    "file_info_list = [(filename, os.path.getmtime(os.path.join(directory_path, filename))) for filename in filenames]\n",
    "\n",
    "# Sort the list based on modification time\n",
    "sorted_file_info = sorted(file_info_list, key=lambda x: x[1])\n",
    "\n",
    "# Print the sorted filenames and modification times\n",
    "for filename, modification_time in sorted_file_info:\n",
    "    formatted_time = datetime.fromtimestamp(modification_time).strftime('%Y-%m-%d %H:%M:%S')\n",
    "    file_names.append(filename)\n",
    "    #print(filename)\n",
    "    \n",
    "print(f\"{len(file_names)} files found\")"
   ]
  },
  {
   "cell_type": "markdown",
   "id": "cf33386f",
   "metadata": {},
   "source": [
    "### Plaintext"
   ]
  },
  {
   "cell_type": "markdown",
   "id": "17a3c67e",
   "metadata": {},
   "source": [
    "Previously, plaintext was stored as the filename for the data being saved on the oscilloscope. This method works for manual data collection, but not for automatic data collection. When the data is automatically collected as MATLAB files with the Textronix 5 Series MSO oscilloscope, the filename is _\"const string\" + channel + date + time + \".mat\"_ (eg. power_trace_ch4_20240130110537000.mat). The plaintext data could not be embedded in the filename.\n",
    "\n",
    "We chose to instead use the GPIO pins on the MSP430 to output the plaintext and probe those pins with digital oscilloscope probes. This method appears to provide the most assurance of plaintext correspondance with power traces but is unfortunately a little more complex. Firstly, the plaintext is sent to the output pins one byte at a time and is ordered from MSB (bit 7) to LSB (bit 0). The following list orients the oscilloscope channel and probe number with the plaintext bit number:\n",
    "- Ch4 D7 = bit 7\n",
    "- Ch4 D6 = bit 6\n",
    "- Ch4 D5 = bit 5\n",
    "- Ch4 D4 = bit 4\n",
    "- Ch5 D3 = bit 3\n",
    "- Ch5 D2 = bit 2\n",
    "- Ch5 D1 = bit 1\n",
    "- Ch5 D0 = bit 0\n",
    "\n",
    "Secondly, we included a flag that served two purposes. One was to trigger everytime a new byte of data was recieved and to trigger the beginning and end of the sbox lookup, which is where we are interested in the power trace. In total, this flag was raised 18 times - 16 total bytes of data (128 bits), and then the start and end of sbox lookup. The following orients the sbox flag to the oscilloscope channel and probe number:\n",
    "- Ch5 D4 = Sbox flag"
   ]
  },
  {
   "cell_type": "code",
   "execution_count": 3,
   "id": "cb16b865",
   "metadata": {
    "scrolled": false
   },
   "outputs": [
    {
     "name": "stdout",
     "output_type": "stream",
     "text": [
      "Error: Invalid plaintext efa5\n",
      "Traces size: 0 | Plaintext size: 0\n",
      "\n",
      "Updating traces and plaintext 00112233445566778899aabbccddeeff\n",
      "Traces size: 1 | Plaintext size: 1\n",
      "\n",
      "Updating traces and plaintext 69c4e0d86a7b0430d8cdb78070b4c55a\n",
      "Traces size: 2 | Plaintext size: 2\n",
      "\n",
      "Updating traces and plaintext 4f638c735f614301567824b1a21a4f6a\n",
      "Traces size: 3 | Plaintext size: 3\n",
      "\n",
      "Updating traces and plaintext 507840ad15b6581ea266f2c63fb28276\n",
      "Traces size: 4 | Plaintext size: 4\n",
      "\n",
      "Error: Invalid plaintext f0ff\n",
      "Traces size: 4 | Plaintext size: 4\n",
      "\n",
      "Updating traces and plaintext 00112233445566778899aabbccddeeff\n",
      "Traces size: 5 | Plaintext size: 5\n",
      "\n",
      "Updating traces and plaintext 69c4e0d86a7b0430d8cdb78070b4c55a\n",
      "Traces size: 6 | Plaintext size: 6\n",
      "\n"
     ]
    }
   ],
   "source": [
    "bit_pos = [\"D0\", \"D1\", \"D2\", \"D3\", \"D4\", \"D5\", \"D6\", \"D7\"] # bit position\n",
    "decimal_plaintext = []\n",
    "traces_3d = []\n",
    "\n",
    "def hex_to_decimal(hex_str):\n",
    "    # Parse the hex number into pairs\n",
    "    hex_pairs = [hex_str[i:i+2] for i in range(0, len(hex_str), 2)]\n",
    "\n",
    "    # Convert the pairs to decimal\n",
    "    decimal_numbers = [int(pair, 16) for pair in hex_pairs]\n",
    "\n",
    "    return decimal_numbers\n",
    "\n",
    "for j in range(24): #len(file_names)\n",
    "    start_time = time.time()\n",
    "    # Load a MATLAB file\n",
    "    mat_data = loadmat('C:/Users/ktrippe/OneDrive - University of Arkansas/Trulogic/SCA_AES/srand2/' + file_names[j])\n",
    "    # print(mat)\n",
    "    # print(\"Loading file \" + file_names[j])\n",
    "    \n",
    "    if \"ch\" in file_names[j]:\n",
    "        if \"ch4\" in file_names[j]:\n",
    "            plaintext_col = mat_data[bit_pos[7]]\n",
    "            init = 6  \n",
    "            tot = 3\n",
    "        elif \"ch5\" in file_names[j]:\n",
    "            init = 4 \n",
    "            tot = 5\n",
    "        else:\n",
    "            print(file_names[j] + \" not loaded\")\n",
    "            break\n",
    "\n",
    "        for k in range(tot):\n",
    "            # print(f\"-------- Iteration {j}.{k} Complete --------\")\n",
    "            plaintext_col = np.column_stack((plaintext_col, mat_data[bit_pos[init - k]]))\n",
    "            \n",
    "    else:\n",
    "        # save power trace data\n",
    "        single_trace = mat_data['data']\n",
    "        \n",
    "        # transpose plaintext matrix            \n",
    "        plaintext = plaintext_col.T\n",
    "        \n",
    "        my_array = plaintext[4]\n",
    "\n",
    "        positions = []\n",
    "\n",
    "        for i, value in enumerate(my_array[:-1]):\n",
    "            if value == 0 and my_array[i + 1] == 1:\n",
    "                positions.append(i + 1)\n",
    "        \n",
    "        # Assuming you have an array 'data' and a list of indices 'index_list'\n",
    "        current_plaintext = plaintext\n",
    "        data = current_plaintext[np.arange(current_plaintext.shape[0]) != 4]  # Example array, replace with your actual data\n",
    "        index_list = positions  # Example list of indices, replace with your actual indices\n",
    "\n",
    "        # Extract values using array indexing\n",
    "        result_values = data[np.arange(data.shape[0])[:, None], index_list]\n",
    "\n",
    "        plaintext_bits = []\n",
    "\n",
    "        for x in range(len(result_values[0])):\n",
    "            for y in range(len(result_values)):\n",
    "                plaintext_bits.append(result_values[y][x])\n",
    "                # print(result_values[y][x])\n",
    "\n",
    "        plaintext_hex = np.array(plaintext_bits)\n",
    "\n",
    "        # Assuming you have a NumPy array of bits\n",
    "        bits_array = plaintext_hex\n",
    "\n",
    "        # Reshape the array into chunks of 4 bits\n",
    "        bits_matrix = bits_array.reshape(-1, 4)\n",
    "\n",
    "        # Convert each chunk to its hexadecimal representation\n",
    "        hex_list = [''.join(map(str, chunk)) for chunk in bits_matrix]\n",
    "        hex_numbers = [hex(int(chunk, 2))[2:] for chunk in hex_list]\n",
    "        hex_string = ''.join(hex_numbers[0:32])\n",
    "        decimal_numbers = hex_to_decimal(hex_string)\n",
    "        \n",
    "        try:\n",
    "            traces_3d.append(single_trace[positions[16]:positions[17]])\n",
    "            decimal_plaintext.append(decimal_numbers)\n",
    "            print(f\"Updating traces and plaintext {hex_string}\")\n",
    "        except IndexError as e:\n",
    "            # Handle the case where the array doesn't have 18 elements\n",
    "            print(f\"Error: Invalid plaintext {hex_string}\")\n",
    "\n",
    "        print(f\"Traces size: {len(traces_3d)} | Plaintext size: {len(decimal_plaintext)}\\n\")\n",
    "        \n",
    "        # end_time = time.time()\n",
    "        # elapsed_time = end_time - start_time\n",
    "\n",
    "        # print(f\"Elapsed Time: {elapsed_time} seconds\")        "
   ]
  },
  {
   "cell_type": "code",
   "execution_count": 4,
   "id": "3a348f33",
   "metadata": {},
   "outputs": [
    {
     "name": "stdout",
     "output_type": "stream",
     "text": [
      "Shape of plaintext: (4062500, 9)\n"
     ]
    }
   ],
   "source": [
    "print(f\"Shape of plaintext: {plaintext_col.shape}\")"
   ]
  },
  {
   "cell_type": "markdown",
   "id": "568b0a38",
   "metadata": {},
   "source": [
    "### Additional Filtering and Conversion to Numpy Array"
   ]
  },
  {
   "cell_type": "markdown",
   "id": "66f4575f",
   "metadata": {},
   "source": [
    "The SCA algorithm below is best suited for the traces array in a "
   ]
  },
  {
   "cell_type": "code",
   "execution_count": 5,
   "id": "7d35ef5f",
   "metadata": {},
   "outputs": [
    {
     "name": "stdout",
     "output_type": "stream",
     "text": [
      "Shape of Traces Array: (6, 1127501)\n",
      "Shape of Plaintext Array: (6, 16)\n"
     ]
    }
   ],
   "source": [
    "# Define the minimum length threshold\n",
    "min_length_threshold = 1100000\n",
    "\n",
    "# Step 1: Remove arrays that are too small\n",
    "filtered_arrays = [arr for arr in traces_3d if len(arr) >= min_length_threshold]\n",
    "filtered_plaintext = [plaintext for arr, plaintext in zip(traces_3d, decimal_plaintext) if len(arr) >= min_length_threshold]\n",
    "\n",
    "# Step 2: Find the minimum length among the remaining arrays\n",
    "min_length = min(len(arr) for arr in filtered_arrays)\n",
    "\n",
    "# Step 3: Shorten all remaining arrays to the minimum length\n",
    "shortened_arrays = [arr[:min_length] for arr in filtered_arrays]\n",
    "\n",
    "# Step 4: Convert the list of shortened arrays to a NumPy array\n",
    "traces = np.array(shortened_arrays)\n",
    "plaintext = np.array(filtered_plaintext)\n",
    "\n",
    "# Collapse 3D Traces Numpy Array into 2D Array\n",
    "traces = np.squeeze(traces, axis=-1)\n",
    "\n",
    "# Print the results\n",
    "print(\"Shape of Traces Array:\", traces.shape)\n",
    "print(\"Shape of Plaintext Array:\", plaintext.shape)"
   ]
  },
  {
   "cell_type": "markdown",
   "id": "4ad27545",
   "metadata": {},
   "source": [
    "### Attack"
   ]
  },
  {
   "cell_type": "markdown",
   "id": "b7cf2e90",
   "metadata": {},
   "source": [
    "This is where the attack is performed. All of the variables used here should be taken care of in data preprocessing."
   ]
  },
  {
   "cell_type": "code",
   "execution_count": 6,
   "id": "2bdaaa2a",
   "metadata": {},
   "outputs": [],
   "source": [
    "#Lookup table for number of 1's in binary numbers 0-256\n",
    "HW = [bin(n).count(\"1\") for n in range(0,256)] \n",
    "\n",
    "sbox=(\n",
    "0x63,0x7c,0x77,0x7b,0xf2,0x6b,0x6f,0xc5,0x30,0x01,0x67,0x2b,0xfe,0xd7,0xab,0x76,\n",
    "0xca,0x82,0xc9,0x7d,0xfa,0x59,0x47,0xf0,0xad,0xd4,0xa2,0xaf,0x9c,0xa4,0x72,0xc0,\n",
    "0xb7,0xfd,0x93,0x26,0x36,0x3f,0xf7,0xcc,0x34,0xa5,0xe5,0xf1,0x71,0xd8,0x31,0x15,\n",
    "0x04,0xc7,0x23,0xc3,0x18,0x96,0x05,0x9a,0x07,0x12,0x80,0xe2,0xeb,0x27,0xb2,0x75,\n",
    "0x09,0x83,0x2c,0x1a,0x1b,0x6e,0x5a,0xa0,0x52,0x3b,0xd6,0xb3,0x29,0xe3,0x2f,0x84,\n",
    "0x53,0xd1,0x00,0xed,0x20,0xfc,0xb1,0x5b,0x6a,0xcb,0xbe,0x39,0x4a,0x4c,0x58,0xcf,\n",
    "0xd0,0xef,0xaa,0xfb,0x43,0x4d,0x33,0x85,0x45,0xf9,0x02,0x7f,0x50,0x3c,0x9f,0xa8,\n",
    "0x51,0xa3,0x40,0x8f,0x92,0x9d,0x38,0xf5,0xbc,0xb6,0xda,0x21,0x10,0xff,0xf3,0xd2,\n",
    "0xcd,0x0c,0x13,0xec,0x5f,0x97,0x44,0x17,0xc4,0xa7,0x7e,0x3d,0x64,0x5d,0x19,0x73,\n",
    "0x60,0x81,0x4f,0xdc,0x22,0x2a,0x90,0x88,0x46,0xee,0xb8,0x14,0xde,0x5e,0x0b,0xdb,\n",
    "0xe0,0x32,0x3a,0x0a,0x49,0x06,0x24,0x5c,0xc2,0xd3,0xac,0x62,0x91,0x95,0xe4,0x79,\n",
    "0xe7,0xc8,0x37,0x6d,0x8d,0xd5,0x4e,0xa9,0x6c,0x56,0xf4,0xea,0x65,0x7a,0xae,0x08,\n",
    "0xba,0x78,0x25,0x2e,0x1c,0xa6,0xb4,0xc6,0xe8,0xdd,0x74,0x1f,0x4b,0xbd,0x8b,0x8a,\n",
    "0x70,0x3e,0xb5,0x66,0x48,0x03,0xf6,0x0e,0x61,0x35,0x57,0xb9,0x86,0xc1,0x1d,0x9e,\n",
    "0xe1,0xf8,0x98,0x11,0x69,0xd9,0x8e,0x94,0x9b,0x1e,0x87,0xe9,0xce,0x55,0x28,0xdf,\n",
    "0x8c,0xa1,0x89,0x0d,0xbf,0xe6,0x42,0x68,0x41,0x99,0x2d,0x0f,0xb0,0x54,0xbb,0x16)"
   ]
  },
  {
   "cell_type": "code",
   "execution_count": null,
   "id": "3abae842",
   "metadata": {},
   "outputs": [
    {
     "name": "stderr",
     "output_type": "stream",
     "text": [
      "C:\\Users\\ktrippe\\AppData\\Local\\Temp\\ipykernel_13680\\499073405.py:48: RuntimeWarning: invalid value encountered in divide\n",
      "  cpaoutput[kguess] = sumnum / np.sqrt( sumden1 * sumden2 )\n"
     ]
    }
   ],
   "source": [
    "def intermediate(pt, keyguess):\n",
    "    return sbox[pt ^ keyguess]\n",
    "\n",
    "pt = decimal_plaintext\n",
    "\n",
    "numtraces = np.shape(traces)[0]-1\n",
    "numpoint = np.shape(traces)[1]\n",
    "\n",
    "#Use less than the maximum traces by setting numtraces to something\n",
    "#numtraces = 15\n",
    "\n",
    "bestguess = [0]*16\n",
    "\n",
    "start_time = time.time()\n",
    "#Set 16 to something lower (like 1) to only go through a single subkey & save time!\n",
    "for bnum in range(0, 4):\n",
    "    cpaoutput = [0]*256\n",
    "    maxcpa = [0]*256\n",
    "    for kguess in range(0, 256):\n",
    "        # print (\"Subkey %2d, hyp = %02x: \"%(bnum, kguess))\n",
    "\n",
    "\n",
    "        #Initialize arrays & variables to zero\n",
    "        sumnum = np.zeros(numpoint)\n",
    "        sumden1 = np.zeros(numpoint)\n",
    "        sumden2 = np.zeros(numpoint)\n",
    "\n",
    "        hyp = np.zeros(numtraces)\n",
    "        for tnum in range(0, numtraces):\n",
    "            hyp[tnum] = HW[intermediate(pt[tnum][bnum], kguess)]\n",
    "\n",
    "\n",
    "        #Mean of hypothesis\n",
    "        meanh = np.mean(hyp, dtype=np.float64)\n",
    "\n",
    "        #Mean of all points in trace\n",
    "        meant = np.mean(traces, axis=0, dtype=np.float64)\n",
    "\n",
    "        #For each trace, do the following\n",
    "        for tnum in range(0, numtraces):\n",
    "            hdiff = (hyp[tnum] - meanh)\n",
    "            tdiff = traces[tnum,:] - meant\n",
    "\n",
    "            sumnum = sumnum + (hdiff*tdiff)\n",
    "            sumden1 = sumden1 + hdiff*hdiff \n",
    "            sumden2 = sumden2 + tdiff*tdiff\n",
    "\n",
    "        cpaoutput[kguess] = sumnum / np.sqrt( sumden1 * sumden2 )\n",
    "        maxcpa[kguess] = max(abs(cpaoutput[kguess]))\n",
    "\n",
    "        # print (maxcpa[kguess])\n",
    "\n",
    "    #Find maximum value of key\n",
    "    bestguess[bnum] = np.argmax(maxcpa)\n",
    "\n",
    "print (\"Best Key Guess: \")\n",
    "for b in bestguess: \n",
    "    print (\"%02x \"%b)\n",
    "\n",
    "end_time = time.time()\n",
    "elapsed_time = end_time - start_time\n",
    "\n",
    "print(f\"Elapsed Time: {elapsed_time} seconds\")"
   ]
  }
 ],
 "metadata": {
  "kernelspec": {
   "display_name": "Python 3 (ipykernel)",
   "language": "python",
   "name": "python3"
  },
  "language_info": {
   "codemirror_mode": {
    "name": "ipython",
    "version": 3
   },
   "file_extension": ".py",
   "mimetype": "text/x-python",
   "name": "python",
   "nbconvert_exporter": "python",
   "pygments_lexer": "ipython3",
   "version": "3.10.12"
  }
 },
 "nbformat": 4,
 "nbformat_minor": 5
}
